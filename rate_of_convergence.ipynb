{
  "nbformat": 4,
  "nbformat_minor": 0,
  "metadata": {
    "colab": {
      "name": "rate_of_convergence.ipynb",
      "provenance": []
    },
    "kernelspec": {
      "name": "python3",
      "display_name": "Python 3"
    }
  },
  "cells": [
    {
      "cell_type": "code",
      "metadata": {
        "colab": {
          "base_uri": "https://localhost:8080/"
        },
        "id": "yDz1SWvn3wKI",
        "outputId": "e0f9ce8c-6b29-4216-da20-4d378e163199"
      },
      "source": [
        "min=1\n",
        "delta=0.00001\n",
        "k=1\n",
        "x_b=2\n",
        "count=0\n",
        "while(x_b>min+delta):\n",
        "  x_b= 1+(1/k)\n",
        "  #print(x_b)\n",
        "  count+=1\n",
        "  k+=1\n",
        "print(count)  \n"
      ],
      "execution_count": 4,
      "outputs": [
        {
          "output_type": "stream",
          "text": [
            "100000\n"
          ],
          "name": "stdout"
        }
      ]
    },
    {
      "cell_type": "code",
      "metadata": {
        "colab": {
          "base_uri": "https://localhost:8080/"
        },
        "id": "id-V76ia98Mq",
        "outputId": "283ff786-e09a-415a-faf1-760a9a23642e"
      },
      "source": [
        "min=1\n",
        "delta=0.00001\n",
        "k=1\n",
        "x_b=2\n",
        "count=0\n",
        "while(x_b>min+delta):\n",
        "  x_b= 1+(0.5)**(2**k)\n",
        "  #print(x_b)\n",
        "  count+=1\n",
        "  k+=1\n",
        "print(count)  \n"
      ],
      "execution_count": 9,
      "outputs": [
        {
          "output_type": "stream",
          "text": [
            "5\n"
          ],
          "name": "stdout"
        }
      ]
    },
    {
      "cell_type": "code",
      "metadata": {
        "colab": {
          "base_uri": "https://localhost:8080/"
        },
        "id": "MPX8XuRr-Mng",
        "outputId": "6ab78b00-41ea-4fcf-82a6-924d11a4917b"
      },
      "source": [
        "import math\n",
        "min=1\n",
        "delta=0.00001\n",
        "k=1\n",
        "x_b=2\n",
        "count=0\n",
        "while(x_b>min+delta):\n",
        "  x_b= 1+(1/math.factorial(int(k)))\n",
        "  #print(x_b)\n",
        "  count+=1\n",
        "  k+=1\n",
        "print(count)  \n"
      ],
      "execution_count": 14,
      "outputs": [
        {
          "output_type": "stream",
          "text": [
            "9\n"
          ],
          "name": "stdout"
        }
      ]
    },
    {
      "cell_type": "code",
      "metadata": {
        "colab": {
          "base_uri": "https://localhost:8080/"
        },
        "id": "jKfm4v1R-_zh",
        "outputId": "6cc7d63b-32e8-4dbc-891b-e0c325a3f13a"
      },
      "source": [
        "import math\n",
        "min=1\n",
        "delta=0.00001\n",
        "k=1\n",
        "x_b=2\n",
        "count=0\n",
        "while(x_b>min+delta):\n",
        "  x_b= 1+(0.5)**k\n",
        "  #print(x_b)\n",
        "  count+=1\n",
        "  k+=1\n",
        "print(count)  \n"
      ],
      "execution_count": 18,
      "outputs": [
        {
          "output_type": "stream",
          "text": [
            "17\n"
          ],
          "name": "stdout"
        }
      ]
    },
    {
      "cell_type": "code",
      "metadata": {
        "id": "rJcHOIvfBGN7"
      },
      "source": [
        ""
      ],
      "execution_count": null,
      "outputs": []
    }
  ]
}